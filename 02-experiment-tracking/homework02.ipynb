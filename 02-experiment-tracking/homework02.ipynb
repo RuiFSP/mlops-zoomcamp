{
 "cells": [
  {
   "cell_type": "markdown",
   "id": "96b2fc44",
   "metadata": {},
   "source": [
    "# Homework02 - Rui Pinto"
   ]
  },
  {
   "cell_type": "code",
   "execution_count": 1,
   "id": "5a2a3f71",
   "metadata": {},
   "outputs": [],
   "source": [
    "import numpy as np\n",
    "import pandas as pd\n",
    "import seaborn as sns\n",
    "import matplotlib.pyplot as plt"
   ]
  }
 ],
 "metadata": {
  "kernelspec": {
   "display_name": ".venv",
   "language": "python",
   "name": "python3"
  },
  "language_info": {
   "codemirror_mode": {
    "name": "ipython",
    "version": 3
   },
   "file_extension": ".py",
   "mimetype": "text/x-python",
   "name": "python",
   "nbconvert_exporter": "python",
   "pygments_lexer": "ipython3",
   "version": "3.10.16"
  }
 },
 "nbformat": 4,
 "nbformat_minor": 5
}
