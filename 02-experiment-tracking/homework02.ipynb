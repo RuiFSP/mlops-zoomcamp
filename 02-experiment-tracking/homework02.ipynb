{
 "cells": [
  {
   "cell_type": "markdown",
   "id": "96b2fc44",
   "metadata": {},
   "source": [
    "# Homework02 - Rui Pinto"
   ]
  },
  {
   "cell_type": "code",
   "execution_count": 1,
   "id": "5a2a3f71",
   "metadata": {},
   "outputs": [],
   "source": [
    "import numpy as np\n",
    "import pandas as pd\n",
    "import seaborn as sns\n",
    "import matplotlib.pyplot as plt\n",
    "import mlflow"
   ]
  },
  {
   "cell_type": "markdown",
   "id": "46d660b5",
   "metadata": {},
   "source": [
    "# Q1. Install MLflow\n",
    "- To get started with MLflow you'll need to install the MLflow Python package.\n",
    "- For this we recommend creating a separate Python environment, for example, you can use conda environments, and then install the package there with pip or conda.\n",
    "\n",
    "- Once you installed the package, run the command mlflow --version and check the output.\n",
    "\n",
    "- What's the version that you have?"
   ]
  },
  {
   "cell_type": "code",
   "execution_count": 2,
   "id": "2faaa269",
   "metadata": {},
   "outputs": [
    {
     "name": "stdout",
     "output_type": "stream",
     "text": [
      "MLflow version: 1.27.0\n"
     ]
    }
   ],
   "source": [
    "# chekc mlflow version\n",
    "try:\n",
    "    mlflow_version = mlflow.__version__\n",
    "    print(f\"MLflow version: {mlflow_version}\")\n",
    "except ImportError:\n",
    "    mlflow_version = None\n",
    "    print(\"MLflow is not installed.\")"
   ]
  },
  {
   "cell_type": "markdown",
   "id": "aa9a39e1",
   "metadata": {},
   "source": [
    "# Q2. Download and preprocess the data\n",
    "\n",
    "- We'll use the Green Taxi Trip Records dataset to predict the duration of each trip.\n",
    "- Download the data for January, February and March 2023 in parquet format from here.\n",
    "\n",
    "- Use the script preprocess_data.py located in the folder homework to preprocess the data.\n",
    "\n",
    "The script will:\n",
    "\n",
    "- load the data from the folder <TAXI_DATA_FOLDER> (the folder where you have downloaded the data),\n",
    "- fit a DictVectorizer on the training set (January 2023 data),\n",
    "- save the preprocessed datasets and the DictVectorizer to disk.\n",
    "- Your task is to download the datasets and then execute this command:"
   ]
  },
  {
   "cell_type": "code",
   "execution_count": null,
   "id": "a54fac34",
   "metadata": {},
   "outputs": [],
   "source": [
    "# Download the data for January and February 2023.\n",
    "\n",
    "# !curl https://d37ci6vzurychx.cloudfront.net/trip-data/green_tripdata_2023-01.parquet > data/green_tripdata_2023-01.parquet\n",
    "# !curl https://d37ci6vzurychx.cloudfront.net/trip-data/green_tripdata_2023-02.parquet > data/green_tripdata_2023-02.parquet"
   ]
  },
  {
   "cell_type": "code",
   "execution_count": 11,
   "id": "6e02632b",
   "metadata": {},
   "outputs": [],
   "source": [
    "import os\n",
    "from sklearn.feature_extraction import DictVectorizer\n",
    "from homework.preprocess_data import read_dataframe, preprocess\n",
    "\n",
    "# Read the data\n",
    "df_train = read_dataframe(\n",
    "    os.path.join(\"data\", \"green_tripdata_2023-01.parquet\")\n",
    ")\n",
    "df_val = read_dataframe(\n",
    "    os.path.join(\"data\", \"green_tripdata_2023-02.parquet\")\n",
    ")\n",
    "\n",
    "# create a DictVectorizer\n",
    "dv = DictVectorizer()\n",
    "\n",
    "# Preprocess the data\n",
    "df_train, dv = preprocess(df_train, dv, fit_dv=True)\n",
    "df_val, _ = preprocess(df_val, dv, fit_dv=False)\n",
    "\n"
   ]
  }
 ],
 "metadata": {
  "kernelspec": {
   "display_name": ".venv",
   "language": "python",
   "name": "python3"
  },
  "language_info": {
   "codemirror_mode": {
    "name": "ipython",
    "version": 3
   },
   "file_extension": ".py",
   "mimetype": "text/x-python",
   "name": "python",
   "nbconvert_exporter": "python",
   "pygments_lexer": "ipython3",
   "version": "3.10.16"
  }
 },
 "nbformat": 4,
 "nbformat_minor": 5
}
